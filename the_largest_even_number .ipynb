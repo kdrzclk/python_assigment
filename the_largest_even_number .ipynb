{
 "cells": [
  {
   "cell_type": "code",
   "execution_count": null,
   "id": "bd38ab77",
   "metadata": {},
   "outputs": [],
   "source": [
    "# Write a function that finds the largest even number in a list. \n",
    "# Return -1 if not found. The use of built-in functions max() and sorted() are prohibited.\n",
    "\n",
    "arry = [3, 7, 2, 1, 7, 9, 10, 13]\n",
    "max_even = -1\n",
    "\n",
    "for i in arry :\n",
    "  if i % 2 == 0 and i > max_even :\n",
    "    max_even = i\n",
    "\n",
    "print(max_even)"
   ]
  }
 ],
 "metadata": {
  "kernelspec": {
   "display_name": "Python 3",
   "language": "python",
   "name": "python3"
  },
  "language_info": {
   "codemirror_mode": {
    "name": "ipython",
    "version": 3
   },
   "file_extension": ".py",
   "mimetype": "text/x-python",
   "name": "python",
   "nbconvert_exporter": "python",
   "pygments_lexer": "ipython3",
   "version": "3.8.8"
  }
 },
 "nbformat": 4,
 "nbformat_minor": 5
}
