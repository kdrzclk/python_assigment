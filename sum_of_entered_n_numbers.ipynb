{
 "cells": [
  {
   "cell_type": "code",
   "execution_count": null,
   "id": "bd38ab77",
   "metadata": {},
   "outputs": [],
   "source": [
    "# Write the python code that finds the sum of these numbers \n",
    "# by ensuring that \"n\" numbers to be determined by the user are entered one by one.\n",
    "\n",
    "# The for loop should be used"
   ]
  },
  {
   "cell_type": "code",
   "execution_count": 2,
   "id": "76b66883",
   "metadata": {},
   "outputs": [
    {
     "name": "stdout",
     "output_type": "stream",
     "text": [
      "Specify how many numbers you want to enter: 3\n",
      "1. enter the number = 12\n",
      "2. enter the number = 32\n",
      "3. enter the number = 56\n",
      "Sum of numbers = 100\n"
     ]
    }
   ],
   "source": [
    "n = int(input(\"Specify how many numbers you want to enter: \"))\n",
    "total = 0\n",
    "\n",
    "for i in range(1, n + 1):\n",
    "    num = int(input(f\"{i}. enter the number = \"))\n",
    "    total += num\n",
    "    \n",
    "print(\"Sum of numbers = {}\".format(total))"
   ]
  },
  {
   "cell_type": "code",
   "execution_count": 5,
   "id": "6271fc8f",
   "metadata": {},
   "outputs": [
    {
     "name": "stdout",
     "output_type": "stream",
     "text": [
      "Please, numbers you want to enter: 12 23 25\n",
      "Sum of numbers = 60\n"
     ]
    }
   ],
   "source": [
    "# alternative solution\n",
    "\n",
    "numbers = map(int, input(\"Please, numbers you want to enter: \").split())\n",
    "\n",
    "total = sum(numbers)\n",
    "\n",
    "print(\"Sum of numbers = {}\".format(total))"
   ]
  },
  {
   "cell_type": "code",
   "execution_count": null,
   "id": "15a10e4b",
   "metadata": {},
   "outputs": [],
   "source": [
    "32\n"
   ]
  }
 ],
 "metadata": {
  "kernelspec": {
   "display_name": "Python 3",
   "language": "python",
   "name": "python3"
  },
  "language_info": {
   "codemirror_mode": {
    "name": "ipython",
    "version": 3
   },
   "file_extension": ".py",
   "mimetype": "text/x-python",
   "name": "python",
   "nbconvert_exporter": "python",
   "pygments_lexer": "ipython3",
   "version": "3.8.8"
  }
 },
 "nbformat": 4,
 "nbformat_minor": 5
}
