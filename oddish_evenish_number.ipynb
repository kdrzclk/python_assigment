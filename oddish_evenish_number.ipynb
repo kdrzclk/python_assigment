{
 "cells": [
  {
   "cell_type": "code",
   "execution_count": 4,
   "id": "bd38ab77",
   "metadata": {},
   "outputs": [
    {
     "name": "stdout",
     "output_type": "stream",
     "text": [
      "905\n",
      "Evenish\n"
     ]
    }
   ],
   "source": [
    "# Create a function that determines whether a number is Oddish or Evenish.\n",
    "# A number is Oddish if the sum of all of its digits is odd, and a number is Evenish if the sum of all of its digits is even.\n",
    "# If a number is Oddish, return \"Oddish\". Otherwise, return \"Evenish\".\n",
    "\n",
    "num = input(\"\")\n",
    "total = 0\n",
    "\n",
    "for i in num :\n",
    "  total += int(i)\n",
    "\n",
    "if total % 2 : \n",
    "  print(\"Oddish\")\n",
    "else :\n",
    "  print(\"Evenish\")"
   ]
  },
  {
   "cell_type": "code",
   "execution_count": 5,
   "id": "76b66883",
   "metadata": {},
   "outputs": [
    {
     "name": "stdout",
     "output_type": "stream",
     "text": [
      "Evenish\n"
     ]
    }
   ],
   "source": [
    "# alternative solution\n",
    "\n",
    "print(\"Evenish\" if total % 2 == 0 else \"Oddish\")"
   ]
  },
  {
   "cell_type": "code",
   "execution_count": null,
   "id": "0f363703",
   "metadata": {},
   "outputs": [],
   "source": []
  }
 ],
 "metadata": {
  "kernelspec": {
   "display_name": "Python 3",
   "language": "python",
   "name": "python3"
  },
  "language_info": {
   "codemirror_mode": {
    "name": "ipython",
    "version": 3
   },
   "file_extension": ".py",
   "mimetype": "text/x-python",
   "name": "python",
   "nbconvert_exporter": "python",
   "pygments_lexer": "ipython3",
   "version": "3.8.8"
  }
 },
 "nbformat": 4,
 "nbformat_minor": 5
}
