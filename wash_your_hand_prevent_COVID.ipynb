{
 "cells": [
  {
   "cell_type": "code",
   "execution_count": null,
   "id": "bd38ab77",
   "metadata": {},
   "outputs": [],
   "source": [
    "# It takes 21 seconds to wash your hands and help prevent the spread of COVID-19.\n",
    "\n",
    "# Create a function that takes the number of times a person washes their hands per day N and the number of months they follow\n",
    "# this routine nM and calculates the duration in minutes and seconds that person spends washing their hands.\n",
    "\n",
    "per_day, months = list(map(int, input().split()))\n",
    "\n",
    "total_seconds = 21 * per_day * 30 * months\n",
    "minutes = total_seconds // 60\n",
    "seconds = total_seconds % 60\n",
    "\n",
    "print(\"{} minutes and {} seconds\".format(minutes, seconds))"
   ]
  }
 ],
 "metadata": {
  "kernelspec": {
   "display_name": "Python 3",
   "language": "python",
   "name": "python3"
  },
  "language_info": {
   "codemirror_mode": {
    "name": "ipython",
    "version": 3
   },
   "file_extension": ".py",
   "mimetype": "text/x-python",
   "name": "python",
   "nbconvert_exporter": "python",
   "pygments_lexer": "ipython3",
   "version": "3.8.8"
  }
 },
 "nbformat": 4,
 "nbformat_minor": 5
}
