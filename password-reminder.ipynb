{
 "cells": [
  {
   "cell_type": "code",
   "execution_count": 8,
   "id": "21e8a2e4",
   "metadata": {},
   "outputs": [
    {
     "name": "stdout",
     "output_type": "stream",
     "text": [
      "Enter your name: smith\n",
      "Hello, Smith! See you later.\n"
     ]
    }
   ],
   "source": [
    "name = input(\"Enter your name: \").capitalize()\n",
    "\n",
    "if name == \"Kadir\":\n",
    "    print(\"Hello,\", name + \"!\", \"The password is: 12345678\")\n",
    "else:\n",
    "    print(\"Hello,\", name + \"!\", \"See you later.\" )"
   ]
  },
  {
   "cell_type": "code",
   "execution_count": null,
   "id": "cc474c1c",
   "metadata": {},
   "outputs": [],
   "source": []
  }
 ],
 "metadata": {
  "kernelspec": {
   "display_name": "Python 3",
   "language": "python",
   "name": "python3"
  },
  "language_info": {
   "codemirror_mode": {
    "name": "ipython",
    "version": 3
   },
   "file_extension": ".py",
   "mimetype": "text/x-python",
   "name": "python",
   "nbconvert_exporter": "python",
   "pygments_lexer": "ipython3",
   "version": "3.8.8"
  }
 },
 "nbformat": 4,
 "nbformat_minor": 5
}
