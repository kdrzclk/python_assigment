{
 "cells": [
  {
   "cell_type": "code",
   "execution_count": null,
   "id": "bd38ab77",
   "metadata": {},
   "outputs": [],
   "source": [
    "# Create a function that takes a word and extends all vowels by a number num.\n",
    "\n",
    "# Examples\n",
    "\n",
    "# \"Hello\", 5 ➞ \"Heeeeeelloooooo\"\n",
    "\n",
    "# \"Edabit\", 3 ➞ \"EEEEdaaaabiiiit\"\n",
    "\n",
    "# \"Extend\", 0 ➞ \"Extend\""
   ]
  },
  {
   "cell_type": "code",
   "execution_count": 3,
   "id": "76b66883",
   "metadata": {},
   "outputs": [
    {
     "name": "stdout",
     "output_type": "stream",
     "text": [
      "Please enter a word : john\n",
      "3\n",
      "joooohn\n"
     ]
    }
   ],
   "source": [
    "word = input(\"Please enter a word : \")\n",
    "num = int(input(\"\"))\n",
    "vowels =\"aeiouAEIOU\"\n",
    "new_w = \"\"\n",
    "\n",
    "for i in word :\n",
    "  if i in vowels and num > 0 :\n",
    "    new_w += i * (num + 1)\n",
    "  elif i in vowels and num == 0 :\n",
    "    new_w += i \n",
    "  else :\n",
    "    new_w += i \n",
    "\n",
    "print(new_w)\n",
    "\n"
   ]
  },
  {
   "cell_type": "code",
   "execution_count": null,
   "id": "6271fc8f",
   "metadata": {},
   "outputs": [],
   "source": []
  }
 ],
 "metadata": {
  "kernelspec": {
   "display_name": "Python 3",
   "language": "python",
   "name": "python3"
  },
  "language_info": {
   "codemirror_mode": {
    "name": "ipython",
    "version": 3
   },
   "file_extension": ".py",
   "mimetype": "text/x-python",
   "name": "python",
   "nbconvert_exporter": "python",
   "pygments_lexer": "ipython3",
   "version": "3.8.8"
  }
 },
 "nbformat": 4,
 "nbformat_minor": 5
}
