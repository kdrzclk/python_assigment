{
 "cells": [
  {
   "cell_type": "code",
   "execution_count": 1,
   "id": "bd38ab77",
   "metadata": {},
   "outputs": [
    {
     "name": "stdout",
     "output_type": "stream",
     "text": [
      "Please, enter a word: henry\n",
      "not henry\n"
     ]
    }
   ],
   "source": [
    "word = input(\"Please, enter a word: \")\n",
    "\n",
    "def not_string(word):\n",
    "    if \"not\" in word:\n",
    "        return word\n",
    "    else:\n",
    "        return (\"not \" + word )\n",
    "print(not_string(word))"
   ]
  },
  {
   "cell_type": "code",
   "execution_count": null,
   "id": "1dddee90",
   "metadata": {},
   "outputs": [],
   "source": []
  }
 ],
 "metadata": {
  "kernelspec": {
   "display_name": "Python 3",
   "language": "python",
   "name": "python3"
  },
  "language_info": {
   "codemirror_mode": {
    "name": "ipython",
    "version": 3
   },
   "file_extension": ".py",
   "mimetype": "text/x-python",
   "name": "python",
   "nbconvert_exporter": "python",
   "pygments_lexer": "ipython3",
   "version": "3.8.8"
  }
 },
 "nbformat": 4,
 "nbformat_minor": 5
}
