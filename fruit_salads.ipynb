{
 "cells": [
  {
   "cell_type": "code",
   "execution_count": null,
   "id": "bd38ab77",
   "metadata": {},
   "outputs": [],
   "source": [
    "# Fruit salads are served best when the fruits are sliced and diced into small chunks!\n",
    "\n",
    "# For this challenge, slice each fruit in half and sort the chunks alphabetically. \n",
    "\n",
    "# This recipe tastes best when the chunks are joined together to make a string.\n",
    "\n",
    "# Worked Example\n",
    "\n",
    "# [\"apple\", \"pear\", \"grapes\"] ➞ \"apargrapepesple\"\n",
    "\n",
    "# Chunks: [\"ap\", \"ple\", \"pe\", \"ar\", \"gra\", \"pes\"]\n",
    "\n",
    "# Sorted chunks: [\"ap\", \"ar\", \"gra\", \"pe\", \"pes\", \"ple\"]\n",
    "\n",
    "# Final string: \"apargrapepesple\""
   ]
  },
  {
   "cell_type": "code",
   "execution_count": 1,
   "id": "76b66883",
   "metadata": {},
   "outputs": [
    {
     "name": "stdout",
     "output_type": "stream",
     "text": [
      "apargrapepesple\n"
     ]
    }
   ],
   "source": [
    "arry = [\"apple\", \"pear\", \"grapes\"]\n",
    "new_arry = []\n",
    "for i in arry :\n",
    "  new_arry += [i[: len(i)//2]]\n",
    "  new_arry += [i[len(i)//2 :]]\n",
    "\n",
    "salad = \"\".join(sorted(new_arry))\n",
    "\n",
    "print(salad)"
   ]
  },
  {
   "cell_type": "code",
   "execution_count": null,
   "id": "6271fc8f",
   "metadata": {},
   "outputs": [],
   "source": []
  }
 ],
 "metadata": {
  "kernelspec": {
   "display_name": "Python 3",
   "language": "python",
   "name": "python3"
  },
  "language_info": {
   "codemirror_mode": {
    "name": "ipython",
    "version": 3
   },
   "file_extension": ".py",
   "mimetype": "text/x-python",
   "name": "python",
   "nbconvert_exporter": "python",
   "pygments_lexer": "ipython3",
   "version": "3.8.8"
  }
 },
 "nbformat": 4,
 "nbformat_minor": 5
}
