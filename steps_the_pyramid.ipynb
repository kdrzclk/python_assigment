{
 "cells": [
  {
   "cell_type": "code",
   "execution_count": null,
   "id": "bd38ab77",
   "metadata": {},
   "outputs": [],
   "source": [
    "# Write the python code that creates a pyramid with the \"*\" sign \n",
    "# as many as the number of lines (n) to be determined by the user."
   ]
  },
  {
   "cell_type": "code",
   "execution_count": 4,
   "id": "76b66883",
   "metadata": {},
   "outputs": [
    {
     "name": "stdout",
     "output_type": "stream",
     "text": [
      "Specify how many steps the pyramid will have: 5\n",
      "     *\n",
      "    ***\n",
      "   *****\n",
      "  *******\n",
      " *********\n"
     ]
    }
   ],
   "source": [
    "n = int(input(\"Specify how many steps the pyramid will have: \"))\n",
    "\n",
    "for i in range(1, n + 1):\n",
    "    print(\" \" * (n - i), \"*\" * (2 * i - 1))"
   ]
  },
  {
   "cell_type": "code",
   "execution_count": null,
   "id": "6271fc8f",
   "metadata": {},
   "outputs": [],
   "source": []
  }
 ],
 "metadata": {
  "kernelspec": {
   "display_name": "Python 3",
   "language": "python",
   "name": "python3"
  },
  "language_info": {
   "codemirror_mode": {
    "name": "ipython",
    "version": 3
   },
   "file_extension": ".py",
   "mimetype": "text/x-python",
   "name": "python",
   "nbconvert_exporter": "python",
   "pygments_lexer": "ipython3",
   "version": "3.8.8"
  }
 },
 "nbformat": 4,
 "nbformat_minor": 5
}
