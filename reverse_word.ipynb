{
 "cells": [
  {
   "cell_type": "code",
   "execution_count": 9,
   "id": "bd38ab77",
   "metadata": {},
   "outputs": [
    {
     "name": "stdout",
     "output_type": "stream",
     "text": [
      "Enter a Sentence: Enter a Sentences\n",
      "retnE a secnetneS "
     ]
    }
   ],
   "source": [
    "text = input(\"Enter a Sentence: \").split()\n",
    "\n",
    "for i in text:\n",
    "    new_text = i[::-1]\n",
    "    print(new_text, end = \" \")"
   ]
  },
  {
   "cell_type": "code",
   "execution_count": 2,
   "id": "76b66883",
   "metadata": {},
   "outputs": [
    {
     "name": "stdout",
     "output_type": "stream",
     "text": [
      "Enter a Sentence: kadir özçelik\n",
      "kileçzö ridak\n"
     ]
    }
   ],
   "source": [
    "text = input(\"Enter a Sentence: \")\n",
    "\n",
    "new_text = text[::-1]\n",
    "\n",
    "print(new_text)"
   ]
  },
  {
   "cell_type": "code",
   "execution_count": 4,
   "id": "6271fc8f",
   "metadata": {},
   "outputs": [
    {
     "data": {
      "text/plain": [
       "'kileçzÖ ridaK'"
      ]
     },
     "execution_count": 4,
     "metadata": {},
     "output_type": "execute_result"
    }
   ],
   "source": [
    "def reverse_word(text):\n",
    "    return text[::-1]\n",
    "\n",
    "reverse_word(\"Kadir Özçelik\")"
   ]
  },
  {
   "cell_type": "code",
   "execution_count": null,
   "id": "567cb37a",
   "metadata": {},
   "outputs": [],
   "source": []
  }
 ],
 "metadata": {
  "kernelspec": {
   "display_name": "Python 3",
   "language": "python",
   "name": "python3"
  },
  "language_info": {
   "codemirror_mode": {
    "name": "ipython",
    "version": 3
   },
   "file_extension": ".py",
   "mimetype": "text/x-python",
   "name": "python",
   "nbconvert_exporter": "python",
   "pygments_lexer": "ipython3",
   "version": "3.8.8"
  }
 },
 "nbformat": 4,
 "nbformat_minor": 5
}
