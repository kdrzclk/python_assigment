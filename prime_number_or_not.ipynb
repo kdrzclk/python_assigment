{
 "cells": [
  {
   "cell_type": "code",
   "execution_count": null,
   "id": "bd38ab77",
   "metadata": {},
   "outputs": [],
   "source": [
    "# Given a positive integer N, The task is to write a Python program to check if the number is prime or not.\n",
    "\n",
    "# Definition:\n",
    "\n",
    "# A prime number is a natural number greater than 1 that has no positive divisors other than 1 and itself.\n",
    "\n",
    "# The first few prime numbers are {2, 3, 5, 7, 11, ….}."
   ]
  },
  {
   "cell_type": "code",
   "execution_count": 2,
   "id": "76b66883",
   "metadata": {},
   "outputs": [
    {
     "name": "stdout",
     "output_type": "stream",
     "text": [
      "Please enter a number : 15\n",
      "False\n"
     ]
    }
   ],
   "source": [
    "number = int(input(\"Please enter a number : \"))\n",
    "\n",
    "for i in range(2,number) :\n",
    "  if number % i == 0 :\n",
    "    print(False)\n",
    "    break\n",
    "else :\n",
    "  print(True)"
   ]
  },
  {
   "cell_type": "code",
   "execution_count": null,
   "id": "6271fc8f",
   "metadata": {},
   "outputs": [],
   "source": []
  }
 ],
 "metadata": {
  "kernelspec": {
   "display_name": "Python 3",
   "language": "python",
   "name": "python3"
  },
  "language_info": {
   "codemirror_mode": {
    "name": "ipython",
    "version": 3
   },
   "file_extension": ".py",
   "mimetype": "text/x-python",
   "name": "python",
   "nbconvert_exporter": "python",
   "pygments_lexer": "ipython3",
   "version": "3.8.8"
  }
 },
 "nbformat": 4,
 "nbformat_minor": 5
}
